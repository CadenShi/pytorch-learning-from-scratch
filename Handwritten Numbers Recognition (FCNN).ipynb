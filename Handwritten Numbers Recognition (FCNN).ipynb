{
 "cells": [
  {
   "cell_type": "code",
   "execution_count": 78,
   "id": "e564d22d",
   "metadata": {},
   "outputs": [],
   "source": [
    "import torch\n",
    "import torch.nn as nn\n",
    "import torch.optim as optim\n",
    "import torch.nn.functional as F\n",
    "from torch.utils.data import DataLoader\n",
    "import torchvision.datasets as datasets\n",
    "import torchvision.transforms as transforms"
   ]
  },
  {
   "cell_type": "code",
   "execution_count": 79,
   "id": "2cb9464d",
   "metadata": {},
   "outputs": [],
   "source": [
    "class FCNN(nn.Module):\n",
    "    def __init__(self, input_size, hidden_size, num_classes, device):\n",
    "        super(FCNN, self).__init__()\n",
    "        self.fc1 = nn.Linear(input_size, hidden_size)\n",
    "        self.fc2 = nn.Linear(hidden_size, num_classes)\n",
    "        \n",
    "    def forward(self, x):\n",
    "        # x = x.to(device)\n",
    "        x = F.relu(self.fc1(x))\n",
    "        x = self.fc2(x)\n",
    "        return x"
   ]
  },
  {
   "cell_type": "code",
   "execution_count": 80,
   "id": "f99f4436",
   "metadata": {},
   "outputs": [],
   "source": [
    "device = 'cuda' if torch.cuda.is_available() else 'cpu'\n",
    "\n",
    "input_size = 28*28\n",
    "hidden_size = 128\n",
    "num_classes = 10\n",
    "learning_rate = 1e-3\n",
    "batch_size = 64\n",
    "num_epoches = 10"
   ]
  },
  {
   "cell_type": "code",
   "execution_count": 81,
   "id": "01e1208a",
   "metadata": {},
   "outputs": [
    {
     "data": {
      "text/plain": [
       "FCNN(\n",
       "  (fc1): Linear(in_features=784, out_features=128, bias=True)\n",
       "  (fc2): Linear(in_features=128, out_features=10, bias=True)\n",
       ")"
      ]
     },
     "execution_count": 81,
     "metadata": {},
     "output_type": "execute_result"
    }
   ],
   "source": [
    "model = FCNN(input_size, hidden_size, num_classes, device)\n",
    "model.to(device)\n",
    "model"
   ]
  },
  {
   "cell_type": "code",
   "execution_count": 82,
   "id": "d62b0bd1",
   "metadata": {},
   "outputs": [],
   "source": [
    "train_dataset = datasets.MNIST(root='dataset/mnist/',train=True, transform=transforms.ToTensor(), download=True)\n",
    "train_loader = DataLoader(dataset=train_dataset, batch_size=batch_size, shuffle=True)\n",
    "\n",
    "test_dataset = datasets.MNIST(root='dataset/mnist/',train=False, transform=transforms.ToTensor(), download=True)\n",
    "test_loader = DataLoader(dataset=test_dataset, batch_size=batch_size, shuffle=True)"
   ]
  },
  {
   "cell_type": "code",
   "execution_count": 83,
   "id": "286ddf19",
   "metadata": {},
   "outputs": [],
   "source": [
    "criterion = nn.CrossEntropyLoss()\n",
    "optimizer= optim.Adam(model.parameters(), lr=learning_rate)"
   ]
  },
  {
   "cell_type": "code",
   "execution_count": 84,
   "id": "ad3ebd01",
   "metadata": {},
   "outputs": [
    {
     "name": "stdout",
     "output_type": "stream",
     "text": [
      "epoch 1: loss = 0.34918728470802307\n",
      "epoch 2: loss = 0.1582726538181305\n",
      "epoch 3: loss = 0.11072656512260437\n",
      "epoch 4: loss = 0.08404892683029175\n",
      "epoch 5: loss = 0.06704749166965485\n",
      "epoch 6: loss = 0.05299541726708412\n",
      "epoch 7: loss = 0.04330743849277496\n",
      "epoch 8: loss = 0.036429885774850845\n",
      "epoch 9: loss = 0.02941669523715973\n",
      "epoch 10: loss = 0.023885628208518028\n"
     ]
    }
   ],
   "source": [
    "for epoch in range(num_epoches):\n",
    "    losses = []\n",
    "    for idx, (data, label) in enumerate(train_loader):\n",
    "        data = data.to(device)\n",
    "        label = label.to(device)\n",
    "        \n",
    "        data = data.reshape(data.shape[0], -1)\n",
    "        # [64, 1, 28, 28] -> [64, 784]\n",
    "        \n",
    "        pred = model(data)\n",
    "        loss = criterion(pred, label)\n",
    "        losses.append(loss)\n",
    "        \n",
    "        optimizer.zero_grad()\n",
    "        loss.backward()\n",
    "        optimizer.step()\n",
    "        \n",
    "    print(f\"epoch {epoch+1}: loss = {sum(losses)/len(losses)}\")"
   ]
  },
  {
   "cell_type": "code",
   "execution_count": 86,
   "id": "98edab45",
   "metadata": {},
   "outputs": [],
   "source": [
    "def check_acc(loader, model):\n",
    "    model.eval()\n",
    "    total = 0\n",
    "    num_wrong = 0\n",
    "\n",
    "    for idx, (data, label) in enumerate(loader):\n",
    "        total += data.shape[0]\n",
    "        data = data.to(device)\n",
    "        label = label.to(device)\n",
    "        \n",
    "        data = data.reshape(data.shape[0], -1)\n",
    "        # [64, 1, 28, 28] -> [64, 784]\n",
    "        \n",
    "        pred = model(data).argmax(1)\n",
    "        num_wrong += (abs(pred-label)).clamp(0,1).sum()\n",
    "    \n",
    "    print(f\"Accuracy on  test set : {(1-(num_wrong/total))*100:.2f}%\")"
   ]
  },
  {
   "cell_type": "code",
   "execution_count": 87,
   "id": "b980a353",
   "metadata": {},
   "outputs": [
    {
     "name": "stdout",
     "output_type": "stream",
     "text": [
      "Accuracy on  test set : 97.90%\n"
     ]
    }
   ],
   "source": [
    "check_acc(test_loader, model)"
   ]
  }
 ],
 "metadata": {
  "kernelspec": {
   "display_name": "Python 3 (ipykernel)",
   "language": "python",
   "name": "python3"
  },
  "language_info": {
   "codemirror_mode": {
    "name": "ipython",
    "version": 3
   },
   "file_extension": ".py",
   "mimetype": "text/x-python",
   "name": "python",
   "nbconvert_exporter": "python",
   "pygments_lexer": "ipython3",
   "version": "3.8.12"
  }
 },
 "nbformat": 4,
 "nbformat_minor": 5
}
