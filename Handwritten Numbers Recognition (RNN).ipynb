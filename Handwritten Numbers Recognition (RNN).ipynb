{
 "cells": [
  {
   "cell_type": "code",
   "execution_count": 58,
   "id": "53948db3",
   "metadata": {},
   "outputs": [],
   "source": [
    "import torch\n",
    "import torch.nn as nn\n",
    "import torch.optim as optim\n",
    "import torch.nn.functional as F\n",
    "from torch.utils.data import DataLoader\n",
    "import torchvision.datasets as datasets\n",
    "import torchvision.transforms as transforms"
   ]
  },
  {
   "cell_type": "code",
   "execution_count": 59,
   "id": "11024fa6",
   "metadata": {},
   "outputs": [],
   "source": [
    "class RNN(nn.Module):\n",
    "    def __init__(self, input_size, hidden_size, num_classes, num_layers=1, batch_first=True, dropout=0, device='gpu'):\n",
    "        super(RNN, self).__init__()\n",
    "        self.num_layers = num_layers\n",
    "        self.hidden_size = hidden_size\n",
    "        self.device = device\n",
    "        self.rnn = nn.RNN(input_size=input_size, hidden_size=hidden_size, num_layers=num_layers, batch_first=batch_first, dropout=dropout)\n",
    "        self.fc = nn.Linear(num_layers*hidden_size, num_classes)\n",
    "        \n",
    "    def forward(self, x):\n",
    "        h_0 = torch.zeros(self.num_layers, x.shape[0], self.hidden_size).to(device)\n",
    "        _, h_n = self.rnn(x, h_0)\n",
    "        h_n = h_n.permute(1,0,2)\n",
    "        h_n = h_n.reshape(h_n.shape[0], -1)\n",
    "        res = self.fc(h_n)\n",
    "        \n",
    "        return res"
   ]
  },
  {
   "cell_type": "code",
   "execution_count": 60,
   "id": "e4756675",
   "metadata": {},
   "outputs": [],
   "source": [
    "device = 'cuda' if torch.cuda.is_available() else 'cpu'\n",
    "\n",
    "input_size = 28\n",
    "hidden_size = 256\n",
    "num_layers = 2\n",
    "num_classes = 10\n",
    "dropout = 0\n",
    "learning_rate = 1e-3\n",
    "batch_size = 64\n",
    "num_epoches = 10"
   ]
  },
  {
   "cell_type": "code",
   "execution_count": 61,
   "id": "7d21f7e7",
   "metadata": {},
   "outputs": [
    {
     "data": {
      "text/plain": [
       "RNN(\n",
       "  (rnn): RNN(28, 256, num_layers=2, batch_first=True)\n",
       "  (fc): Linear(in_features=512, out_features=10, bias=True)\n",
       ")"
      ]
     },
     "execution_count": 61,
     "metadata": {},
     "output_type": "execute_result"
    }
   ],
   "source": [
    "model = RNN(input_size, hidden_size, num_classes, num_layers, True, dropout, device)\n",
    "model.to(device)\n",
    "model"
   ]
  },
  {
   "cell_type": "code",
   "execution_count": 62,
   "id": "7752a2d3",
   "metadata": {},
   "outputs": [],
   "source": [
    "train_dataset = datasets.MNIST(root='dataset/minist/',train=True, transform=transforms.ToTensor(), download=True)\n",
    "train_loader = DataLoader(dataset=train_dataset, batch_size=batch_size, shuffle=True)\n",
    "\n",
    "test_dataset = datasets.MNIST(root='dataset/minist/',train=False, transform=transforms.ToTensor(), download=True)\n",
    "test_loader = DataLoader(dataset=test_dataset, batch_size=batch_size, shuffle=True)"
   ]
  },
  {
   "cell_type": "code",
   "execution_count": 63,
   "id": "c11a3f22",
   "metadata": {},
   "outputs": [],
   "source": [
    "criterion = nn.CrossEntropyLoss()\n",
    "optimizer = optim.Adam(model.parameters(), lr=learning_rate)"
   ]
  },
  {
   "cell_type": "code",
   "execution_count": 64,
   "id": "ef8590c3",
   "metadata": {},
   "outputs": [
    {
     "name": "stdout",
     "output_type": "stream",
     "text": [
      "epoch: 1, loss: 0.60\n",
      "epoch: 2, loss: 0.28\n",
      "epoch: 3, loss: 0.21\n",
      "epoch: 4, loss: 0.17\n",
      "epoch: 5, loss: 0.15\n",
      "epoch: 6, loss: 0.16\n",
      "epoch: 7, loss: 0.15\n",
      "epoch: 8, loss: 0.14\n",
      "epoch: 9, loss: 0.14\n",
      "epoch: 10, loss: 0.13\n"
     ]
    }
   ],
   "source": [
    "for epoch in range(num_epoches):\n",
    "    losses = []\n",
    "    for idx, (data, label) in enumerate(train_loader):\n",
    "        data = data.to(device)\n",
    "        data = data.squeeze(1)\n",
    "        label = label.to(device)\n",
    "        \n",
    "        pred = model(data)\n",
    "        loss = criterion(pred, label)\n",
    "        \n",
    "        optimizer.zero_grad()\n",
    "        loss.backward()\n",
    "        optimizer.step()\n",
    "        \n",
    "        losses.append(loss)\n",
    "        \n",
    "    print(f\"epoch: {epoch+1}, loss: {sum(losses)/len(losses):.2f}\")"
   ]
  },
  {
   "cell_type": "code",
   "execution_count": 65,
   "id": "7c3f775f",
   "metadata": {},
   "outputs": [
    {
     "name": "stdout",
     "output_type": "stream",
     "text": [
      "Accuracy on  test set : 94.39%\n"
     ]
    }
   ],
   "source": [
    "model.eval()\n",
    "total = 0\n",
    "num_wrong = 0\n",
    "\n",
    "with torch.no_grad():\n",
    "    for idx, (data, label) in  enumerate(test_loader):\n",
    "        data = data.to(device)\n",
    "        data = data.squeeze(1)\n",
    "        label = label.to(device)\n",
    "        total += data.shape[0]\n",
    "\n",
    "        pred = model(data).argmax(1)\n",
    "        num_wrong += (abs(pred-label)).clamp(0,1).sum()\n",
    "\n",
    "print(f\"Accuracy on  test set : {(1-(num_wrong/total))*100:.2f}%\")"
   ]
  }
 ],
 "metadata": {
  "kernelspec": {
   "display_name": "Python 3 (ipykernel)",
   "language": "python",
   "name": "python3"
  },
  "language_info": {
   "codemirror_mode": {
    "name": "ipython",
    "version": 3
   },
   "file_extension": ".py",
   "mimetype": "text/x-python",
   "name": "python",
   "nbconvert_exporter": "python",
   "pygments_lexer": "ipython3",
   "version": "3.8.12"
  }
 },
 "nbformat": 4,
 "nbformat_minor": 5
}
