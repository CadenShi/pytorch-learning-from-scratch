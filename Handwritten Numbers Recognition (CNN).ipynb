{
 "cells": [
  {
   "cell_type": "code",
   "execution_count": 1,
   "id": "a3d51206",
   "metadata": {},
   "outputs": [],
   "source": [
    "import torch\n",
    "import torch.nn as nn\n",
    "import torch.optim as optim\n",
    "import torch.nn.functional as F\n",
    "from torch.utils.data import DataLoader\n",
    "import torchvision.datasets as datasets\n",
    "import torchvision.transforms as transforms"
   ]
  },
  {
   "cell_type": "code",
   "execution_count": 16,
   "id": "cf9a1ad4",
   "metadata": {},
   "outputs": [],
   "source": [
    "class CNN(nn.Module):\n",
    "    def __init__(self, in_channels=1, num_classes=10):\n",
    "        super(CNN, self).__init__()\n",
    "        self.conv1 = nn.Conv2d(in_channels=in_channels, out_channels=8, kernel_size=3, stride=1, padding=1)\n",
    "        # [N, 1, 28, 28]  ->  [N, 8, 28, 28]\n",
    "        self.pool = nn.MaxPool2d(kernel_size=2, stride=2)\n",
    "        # (28, 28)  ->  (14, 14)\n",
    "        self.conv2 = nn.Conv2d(in_channels=8, out_channels=16, kernel_size=3, stride=1, padding=1)\n",
    "        # [N, 8, 14, 14]  ->  [N, 16, 14, 14]\n",
    "        self.fc = nn.Linear(16*7*7, num_classes)\n",
    "        \n",
    "    def forward(self, x):\n",
    "        x = F.relu(self.conv1(x))\n",
    "        x = self.pool(x)\n",
    "        x = F.relu(self.conv2(x))\n",
    "        x = self.pool(x)\n",
    "        x = x.reshape(x.shape[0], -1)\n",
    "        x = self.fc(x)\n",
    "        \n",
    "        return x"
   ]
  },
  {
   "cell_type": "code",
   "execution_count": 29,
   "id": "d10bc4a9",
   "metadata": {},
   "outputs": [],
   "source": [
    "device = 'cuda' if torch.cuda.is_available() else 'cpu'\n",
    "\n",
    "in_channels=1\n",
    "num_classes = 10\n",
    "learning_rate = 1e-5\n",
    "batch_size = 64\n",
    "num_epochs = 20"
   ]
  },
  {
   "cell_type": "code",
   "execution_count": 17,
   "id": "7d2ddead",
   "metadata": {},
   "outputs": [
    {
     "data": {
      "text/plain": [
       "CNN(\n",
       "  (conv1): Conv2d(1, 8, kernel_size=(3, 3), stride=(1, 1), padding=(1, 1))\n",
       "  (pool): MaxPool2d(kernel_size=2, stride=2, padding=0, dilation=1, ceil_mode=False)\n",
       "  (conv2): Conv2d(8, 16, kernel_size=(3, 3), stride=(1, 1), padding=(1, 1))\n",
       "  (fc): Linear(in_features=784, out_features=10, bias=True)\n",
       ")"
      ]
     },
     "execution_count": 17,
     "metadata": {},
     "output_type": "execute_result"
    }
   ],
   "source": [
    "model = CNN(in_channels, num_classes)\n",
    "model.to(device)"
   ]
  },
  {
   "cell_type": "code",
   "execution_count": 26,
   "id": "468ae5a3",
   "metadata": {},
   "outputs": [],
   "source": [
    "criterion = nn.CrossEntropyLoss()\n",
    "optimizer = optim.Adam(model.parameters(), lr=learning_rate)"
   ]
  },
  {
   "cell_type": "code",
   "execution_count": 10,
   "id": "30aa69f3",
   "metadata": {},
   "outputs": [],
   "source": [
    "train_dataset = datasets.MNIST(root='dataset/minist/',train=True, transform=transforms.ToTensor(), download=False)\n",
    "train_loader = DataLoader(dataset=train_dataset, batch_size=64, shuffle=True)\n",
    "\n",
    "test_dataset = datasets.MNIST(root='dataset/minist/',train=False, transform=transforms.ToTensor(), download=False)\n",
    "test_loader = DataLoader(dataset=test_dataset, batch_size=64, shuffle=True)"
   ]
  },
  {
   "cell_type": "code",
   "execution_count": null,
   "id": "905253d6",
   "metadata": {},
   "outputs": [
    {
     "name": "stdout",
     "output_type": "stream",
     "text": [
      "epoch: 1, loss = 0.5596543550491333\n",
      "epoch: 2, loss = 0.5108937621116638\n",
      "epoch: 3, loss = 0.47366106510162354\n",
      "epoch: 4, loss = 0.44457727670669556\n",
      "epoch: 5, loss = 0.421329140663147\n",
      "epoch: 6, loss = 0.4020666480064392\n",
      "epoch: 7, loss = 0.38592424988746643\n",
      "epoch: 8, loss = 0.3717154860496521\n",
      "epoch: 9, loss = 0.35940617322921753\n",
      "epoch: 10, loss = 0.34805065393447876\n",
      "epoch: 11, loss = 0.3378625214099884\n",
      "epoch: 12, loss = 0.32844972610473633\n",
      "epoch: 13, loss = 0.3197747468948364\n",
      "epoch: 14, loss = 0.31178635358810425\n",
      "epoch: 15, loss = 0.30405208468437195\n",
      "epoch: 16, loss = 0.296942800283432\n",
      "epoch: 17, loss = 0.2902800142765045\n",
      "epoch: 18, loss = 0.283648818731308\n"
     ]
    }
   ],
   "source": [
    "for epoch in  range(num_epochs):\n",
    "    losses = []\n",
    "    for idx, (data, label) in  enumerate(train_loader):\n",
    "        data = data.to(device)\n",
    "        label = label.to(device)\n",
    "        \n",
    "        pred = model(data)\n",
    "        loss = criterion(pred, label)\n",
    "        losses.append(loss)\n",
    "        \n",
    "        optimizer.zero_grad()\n",
    "        loss.backward()\n",
    "        optimizer.step()\n",
    "        \n",
    "    print(f\"epoch: {epoch+1}, loss = {sum(losses)/len(losses)}\")"
   ]
  },
  {
   "cell_type": "code",
   "execution_count": null,
   "id": "f4d0b5a4",
   "metadata": {},
   "outputs": [],
   "source": [
    "model.eval()\n",
    "total = 0\n",
    "num_wrong = 0\n",
    "\n",
    "with torch.no_grad():\n",
    "    for idx, (data, label) in  enumerate(test_loader):\n",
    "        data = data.to(device)\n",
    "        label = label.to(device)\n",
    "        total += data.shape[0]\n",
    "\n",
    "        pred = model(data).argmax(1)\n",
    "        num_wrong += (abs(pred-label)).clamp(0,1).sum()\n",
    "\n",
    "print(f\"Accuracy on  test set : {(1-(num_wrong/total))*100:.2f}%\")"
   ]
  }
 ],
 "metadata": {
  "kernelspec": {
   "display_name": "Python 3 (ipykernel)",
   "language": "python",
   "name": "python3"
  },
  "language_info": {
   "codemirror_mode": {
    "name": "ipython",
    "version": 3
   },
   "file_extension": ".py",
   "mimetype": "text/x-python",
   "name": "python",
   "nbconvert_exporter": "python",
   "pygments_lexer": "ipython3",
   "version": "3.8.12"
  }
 },
 "nbformat": 4,
 "nbformat_minor": 5
}
